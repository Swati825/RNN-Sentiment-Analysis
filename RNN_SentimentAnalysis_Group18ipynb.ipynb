{
  "cells": [
    {
      "cell_type": "markdown",
      "source": [
        "# **Sentiment Analysis of Movie Reviews using Recurrent Neural Networks**"
      ],
      "metadata": {
        "id": "pUv2fo-n0X3L"
      }
    },
    {
      "cell_type": "markdown",
      "source": [
        "# **Project Information**\n",
        "* **Project Title:** Sentiment Analysis of Movie Reviews using Recurrent Neural Networks\n",
        "* **Student Name:** Radhika Sarin, Swati Kaushik\n",
        "* **Enrollment Number:** 055035 , 055050\n",
        "* **Group Number:** 18\n",
        "* **Project Information:** The dataset consists of reviews from Metacritic, containing text reviews and associated scores. These reviews serve as input for sentiment classification, where we categorize sentiments into positive, negative, or neutral.This project successfully demonstrates the capability of RNNs in sentiment analysis. By leveraging Metacritic reviews for training and IMDb reviews for testing, we analyze the robustness of the model across different datasets. The findings contribute to developing sentiment classification models for real-world applications such as review-based recommendation systems.\n",
        "---"
      ],
      "metadata": {
        "id": "h-ZYaNcugm8n"
      }
    },
    {
      "cell_type": "markdown",
      "source": [
        "# **Description of Data**  \n",
        "\n",
        "The **Metacritic Sentiment Analysis Dataset** contains user reviews from Metacritic, with associated sentiment labels for training a sentiment analysis model. The dataset consists of **100 rows and 2 columns**, providing textual data for analysis using a Recurrent Neural Network (RNN). Below is a detailed description of each column:  \n",
        "\n",
        "1. **review**: A textual review given by users on Metacritic. This serves as the primary input for sentiment analysis.  \n",
        "2. **sentiment**: A numerical value (integer) representing the sentiment of the review. Typically, 0 indicates a negative sentiment, and 1 indicates a positive sentiment.  \n",
        "\n",
        "The dataset includes **100 entries**, making it suitable for experimentation and model training in sentiment classification tasks. It is structured for efficient text preprocessing and model evaluation.\n",
        "\n",
        "---"
      ],
      "metadata": {
        "id": "OgbNezkZjqn7"
      }
    },
    {
      "cell_type": "markdown",
      "source": [
        "# **Sentiment Analysis of Movie Reviews using Recurrent Neural Networks**\n"
      ],
      "metadata": {
        "id": "vMkwEAFKltwU"
      }
    },
    {
      "cell_type": "markdown",
      "source": [
        "# **Project Overview**\n",
        "  The project focuses on performing sentiment analysis on user reviews from Metacritic using a **Recurrent Neural Network (RNN)** to classify reviews as positive or negative and test its performance on IMDb ratings. The dataset comprises **100 reviews** from Metacritic, each labeled with a sentiment score (0 for negative, 1 for positive), which is used to train an RNN-based sentiment classification model. The methodology involves **data preprocessing**, including text cleaning , tokenization, and vectorization using word embeddings, along with padding sequences for uniform input length. The **model architecture** consists of an embedding layer to convert words into dense vector representations, **RNN layers (LSTM/GRU)** to capture contextual meaning and long-term dependencies, and a dense output layer using a softmax/sigmoid activation function for sentiment classification. The model is trained on **Metacritic reviews** and tested on **IMDb reviews** to evaluate its generalization, using performance metrics such as **Accuracy, Precision, Recall, and F1-score**. The results indicate that the RNN model effectively classifies sentiment in Metacritic reviews, while IMDb testing helps assess its robustness across different review platforms.This project demonstrates the effectiveness of RNNs in sentiment classification and provides insights that can be applied in **recommendation systems, automated review moderation, and customer feedback analysis**.\n",
        "\n",
        "  ---"
      ],
      "metadata": {
        "id": "a0euW3RhmKaC"
      }
    },
    {
      "cell_type": "markdown",
      "source": [
        "# **Problem Statements**\n",
        "\n",
        "**1. Limitations of Traditional Sentiment Analysis -**  Traditional sentiment analysis methods struggle to capture the contextual nuances and sequential nature of movie reviews, leading to inaccurate sentiment classification.\n",
        "\n",
        "**2. Challenges in Long-term Dependency Capture -** Existing models often fail to capture long-term dependencies within the text, which significantly impacts the accuracy of sentiment classification, particularly in longer movie reviews.\n",
        "\n",
        "**3. Lack of Labeled Movie Review Datasets -** The limited availability of labeled movie review datasets hinders the development and evaluation of robust sentiment analysis models, restricting their performance and adaptability.\n",
        "\n",
        "**4. Platform and Genre Variability -** The performance of sentiment analysis models varies significantly across different review platforms (e.g., Metacritic, IMDb) and movie genres, making it challenging to create a universal model.\n",
        "\n",
        "**5. Handling Sarcasm and Figurative Language -** Sarcasm, irony, and other figurative language pose a major challenge to accurate sentiment classification, often leading to misinterpretations in movie reviews.\n",
        "\n",
        "**6. Dealing with Negations and Sentiment Shifters -**\n",
        "Negations and sentiment shifters within reviews require sophisticated language understanding capabilities to ensure accurate sentiment classification.\n",
        "\n",
        "**7. Impact of Biased Reviews -**\n",
        "Identifying and mitigating the impact of biased reviews on overall sentiment analysis remains an open problem, as such reviews can skew sentiment classification.\n",
        "\n",
        "**8. Computational Cost of RNN Models -**\n",
        "Training complex Recurrent Neural Network (RNN) models can be computationally expensive and resource-intensive, posing challenges for real-time applications.\n",
        "\n",
        "**9. Domain and Language Adaptation -**\n",
        "Adapting sentiment analysis models to new domains and languages requires significant retraining efforts, making it difficult to implement a generalizable solution.\n",
        "\n",
        "**10. Robustness and Generalization Issues -**\n",
        "Ensuring the robustness and generalization of sentiment analysis models to unseen data and new contexts is crucial for the model's real-world performance.\n",
        "\n",
        "**11. Noisy and Inconsistent Labeling in Datasets -** Addressing the issue of noisy and inconsistent labeling in movie review datasets is essential for improving the accuracy of sentiment analysis models.\n",
        "\n",
        "**12. Incorporation of Domain-Specific Knowledge -** Incorporating domain-specific knowledge and sentiment lexicons into models can help refine sentiment analysis, improving accuracy and context understanding.\n",
        "\n",
        "**13. Explainability and Interpretability -** Evaluating the explainability and interpretability of RNN-based sentiment analysis models is becoming increasingly important for user trust and understanding.\n",
        "\n",
        "**14. Effect of Spoilers and Irrelevant Information -** The presence of spoilers and irrelevant information in reviews can negatively affect the accuracy of sentiment classification, making it a critical consideration in model development.\n",
        "\n",
        "**15. Multilingual and Mixed-Language Reviews -** Developing sentiment analysis models that can effectively handle multilingual and mixed-language reviews remains a challenge due to the complexity of language understanding.\n",
        "\n",
        "---\n",
        "\n"
      ],
      "metadata": {
        "id": "X9fkdzPDqtwk"
      }
    },
    {
      "cell_type": "markdown",
      "source": [
        "# **Objectives**\n",
        "\n",
        "**1. Development of an RNN-based Sentiment Analysis Model -**\n",
        "Create an RNN-based sentiment analysis model that can accurately classify movie reviews as positive or negative, improving overall classification accuracy.\n",
        "\n",
        "**2. Capturing Contextual Information and Long-term Dependencies -**\n",
        "Enhance the model’s ability to capture contextual information and long-term dependencies within the text, addressing the limitations of traditional methods.\n",
        "\n",
        "**3. Evaluation on Multiple Datasets and Platforms -**\n",
        "Evaluate the model's performance on different movie review datasets and platforms, such as Metacritic and IMDb, to assess its generalizability.\n",
        "\n",
        "**4. Investigating RNN Architectures -**\n",
        "Investigate the impact of different RNN architectures, including Long Short-Term Memory (LSTM) and Gated Recurrent Units (GRU), on sentiment classification accuracy.\n",
        "\n",
        "**5. Handling Sarcasm and Figurative Language -**\n",
        "Explore techniques to handle sarcasm, irony, and other forms of figurative language in movie reviews to improve sentiment classification accuracy.\n",
        "\n",
        "**6. Mitigating the Impact of Negations and Sentiment Shifters -**\n",
        "Implement methods for identifying and mitigating the effect of negations and sentiment shifters within reviews, improving the model’s accuracy.\n",
        "\n",
        "**7. Addressing Biased Reviews -**Develop techniques to identify and reduce the influence of biased reviews on overall sentiment classification, ensuring more balanced results.\n",
        "\n",
        "**8. Optimizing Computational Efficiency -**\n",
        "Optimize the model’s computational efficiency and resource requirements to support real-time sentiment analysis applications, reducing latency and cost.\n",
        "\n",
        "**9. Enhancing Adaptability to New Domains and Languages -**\n",
        "Enhance the model's adaptability to new domains and languages, ensuring minimal retraining while maintaining high performance.\n",
        "\n",
        "**10. Improving Robustness and Generalization -**\n",
        "Improve the model’s robustness and generalization to unseen data and noisy labels, ensuring reliable performance in diverse real-world contexts.\n",
        "\n",
        "**11. Addressing Noisy Labeling Issues -**\n",
        "Develop techniques to address the issue of noisy and inconsistent labeling in movie review datasets, improving the quality of training data.\n",
        "\n",
        "**12. Incorporating Domain-Specific Knowledge -**\n",
        "Incorporate domain-specific knowledge and sentiment lexicons into the model to refine sentiment analysis, improving its contextual understanding.\n",
        "\n",
        "**13. Evaluating Explainability and Interpretability -**\n",
        "Evaluate the explainability and interpretability of RNN-based sentiment analysis models to ensure that users can understand the model’s predictions.\n",
        "\n",
        "**14. Handling Spoilers and Irrelevant Information -**\n",
        "Develop strategies for detecting and handling spoilers and irrelevant information within reviews, improving the accuracy of sentiment classification.\n",
        "\n",
        "**15. Enabling Multilingual and Mixed-Language Sentiment Analysis -** Extend the model's capabilities to handle multilingual and mixed-language reviews, enhancing its usability across different linguistic contexts.\n",
        "\n",
        "---"
      ],
      "metadata": {
        "id": "-Cy0NBDUq4s2"
      }
    },
    {
      "cell_type": "markdown",
      "source": [
        "# **Managerial Insights and Recommendations**\n",
        "\n",
        "\n",
        "**1. Overfitting Risk**\n",
        "- **Insight**: Overfitting is a risk and needs to be addressed.\n",
        "- **Recommendations**:\n",
        "  - Implement early stopping to halt training when validation performance starts to decline.\n",
        "  - Apply regularization techniques like L1/L2 regularization or dropout to reduce model complexity.\n",
        "  - Explore different model architectures or hyperparameters to find a balance between performance and generalization.\n",
        "\n",
        "**2. Generalization Across Review Sources**\n",
        "- **Insight**: The model's reliance on the IMDB dataset may limit its ability to generalize to other review sources.\n",
        "- **Recommendations**:\n",
        "  - Validate the model's performance on datasets from other platforms or sources, such as Metacritic, Rotten Tomatoes, or user-generated reviews from social media.\n",
        "  - Consider using cross-validation techniques to assess the model's generalization ability.\n",
        "  - Explore domain adaptation techniques to fine-tune the model for specific review sources.\n",
        "\n",
        "**3. Larger and More Diverse Dataset**\n",
        "- **Insight**: A larger and more diverse dataset could significantly improve the model's performance and robustness.\n",
        "- **Recommendations**:\n",
        "  - Augment the training data with additional movie reviews from diverse sources, ensuring a balanced representation of genres, writing styles, and sentiments.\n",
        "  - Consider using data augmentation techniques to synthetically generate new training examples.\n",
        "  - Explore the use of pre-trained word embeddings or language models that have been trained on large text corpora to enhance the model's understanding of language.\n",
        "\n",
        "**4. RNN Architecture (LSTM)**\n",
        "- **Insight**: RNN architecture, particularly LSTM, is well-suited for capturing sentiment from sequential movie review data.\n",
        "- **Recommendations**:\n",
        "  - Continue leveraging LSTM layers in the model architecture, but explore different configurations and hyperparameters to optimize performance.\n",
        "  - Consider experimenting with other RNN architectures, such as GRU (Gated Recurrent Unit), to compare their effectiveness.\n",
        "  - Investigate the use of attention mechanisms to enhance the model's ability to focus on relevant parts of the review text.\n",
        "\n",
        "**5. Figurative Language (Sarcasm and Irony)**\n",
        "- **Insight**: Figurative language like sarcasm and irony pose a challenge for accurate sentiment analysis and require specialized handling.\n",
        "- **Recommendations**:\n",
        "  - Explore techniques for identifying and interpreting figurative language in movie reviews, such as using sentiment lexicons or rule-based approaches.\n",
        "  - Consider incorporating external knowledge sources or pre-trained models that have been specifically trained on sarcasm detection.\n",
        "  - Augment the training data with examples of sarcastic and ironic reviews to improve the model's ability to handle them.\n",
        "\n",
        "**6. Bias in Reviews**\n",
        "- **Insight**: Bias in reviews can skew sentiment analysis results, necessitating detection and mitigation strategies.\n",
        "- **Recommendations**:\n",
        "  - Develop methods for identifying and mitigating the impact of biased reviews on sentiment analysis, such as using bias detection algorithms or incorporating fairness constraints into the model training process.\n",
        "  - Consider using human reviewers to validate the model's predictions on potentially biased reviews.\n",
        "  - Explore techniques for debiasing the training data by removing or re-weighting biased examples.\n",
        "\n",
        "**7. Computational Efficiency**\n",
        "- **Insight**: Computational efficiency is crucial for real-time applications and needs to be optimized.\n",
        "- **Recommendations**:\n",
        "  - Optimize the model's architecture and hyperparameters to reduce the computational cost of training and inference.\n",
        "  - Explore techniques for model compression or quantization to reduce the model's size and improve inference speed.\n",
        "  - Consider using hardware acceleration, such as GPUs or TPUs, to speed up training and inference.\n",
        "\n",
        "**8. Model Performance Across Genres/Platforms**\n",
        "- **Insight**: Model performance may vary across different movie genres and review platforms, requiring domain adaptation.\n",
        "- **Recommendations**:\n",
        "  - Train separate models or fine-tune existing models for specific movie genres or review platforms to improve performance in those domains.\n",
        "  - Consider using transfer learning techniques to leverage knowledge from pre-trained models that have been trained on similar domains.\n",
        "  - Explore the use of multi-task learning to train a single model that can perform well across multiple domains.\n",
        "\n",
        "**9. Multilingual Capabilities**\n",
        "- **Insight**: Extending the model to handle multiple languages can significantly broaden its applicability.\n",
        "- **Recommendations**:\n",
        "  - Train the model on multilingual datasets or use machine translation techniques to adapt the model to different languages.\n",
        "  - Explore the use of cross-lingual word embeddings or language models to enable the model to understand and analyze text in multiple languages.\n",
        "  - Consider using a multi-lingual architecture, where different language-specific components are integrated into the model.\n",
        "\n",
        "**10. Model Interpretability**\n",
        "- **Insight**: Understanding the model's decision-making process is crucial for building trust and debugging.\n",
        "- **Recommendations**:\n",
        "  - Incorporate attention mechanisms or other interpretability techniques into the model architecture to provide insights into which parts of the review text are most influential in the sentiment prediction.\n",
        "  - Explore techniques for visualizing the model's internal representations or activations to understand how it processes information.\n",
        "  - Consider using model-agnostic interpretability methods, such as LIME or SHAP, to explain individual predictions.\n",
        "\n",
        "**11. Spoilers in Reviews**\n",
        "- **Insight**: Spoilers in reviews can influence sentiment analysis and need to be detected and addressed.\n",
        "- **Recommendations**:\n",
        "  - Develop methods for detecting and handling spoilers in movie reviews, such as using rule-based approaches or training a separate model for spoiler identification.\n",
        "  - Consider masking or removing spoiler content from the review text before performing sentiment analysis.\n",
        "  - Explore the use of spoiler-aware sentiment analysis models that can distinguish between sentiment expressed towards the movie itself and sentiment expressed towards spoilers.\n",
        "\n",
        "**12. Filtering Irrelevant Content**\n",
        "- **Insight**: Filtering irrelevant content can improve the accuracy of sentiment extraction from reviews.\n",
        "- **Recommendations**:\n",
        "  - Develop techniques for identifying and removing irrelevant content from movie reviews, such as using topic modeling or keyword extraction.\n",
        "  - Consider using attention mechanisms to focus the model's attention on the most relevant parts of the review text.\n",
        "  - Explore the use of pre-trained models or external knowledge sources to identify and filter out irrelevant information.\n",
        "\n",
        "**13. Data Quality (Noisy/Inconsistent Labels)**\n",
        "- **Insight**: Data quality, especially the presence of noisy or inconsistent labels, needs to be carefully managed.\n",
        "- **Recommendations**:\n",
        "  - Implement data cleaning techniques to identify and correct or remove noisy or inconsistent labels in the training data.\n",
        "  - Consider using human reviewers to validate the labels of a subset of the training data.\n",
        "  - Explore the use of semi-supervised or active learning techniques to leverage unlabeled data and improve the quality of the training set.\n",
        "\n",
        "**14. Movie-Specific Knowledge or Sentiment Lexicons**\n",
        "- **Insight**: Incorporating movie-specific knowledge or sentiment lexicons can enhance the model's performance.\n",
        "- **Recommendations**:\n",
        "  - Integrate movie-specific knowledge into the model, such as information about actors, directors, genres, or plot summaries.\n",
        "  - Consider using sentiment lexicons that have been specifically curated for movie reviews.\n",
        "  - Explore the use of knowledge graphs or other structured knowledge representations to provide the model with additional context.\n",
        "\n",
        "**15. Business Applications of Sentiment Analysis**\n",
        "- **Insight**: Sentiment analysis offers valuable business applications in recommendation systems, feedback analysis, and market research.\n",
        "- **Recommendations**:\n",
        "  - Integrate the sentiment analysis model into recommendation systems to provide personalized movie recommendations based on user preferences.\n",
        "  - Use the model to analyze customer feedback and identify areas for improvement in movie production or marketing.\n",
        "  - Leverage sentiment analysis to conduct market research and understand audience sentiment towards different movies or genres.\n",
        "  - Explore the use of sentiment analysis in social media monitoring to track public opinion about movies.\n",
        "\n",
        "---\n"
      ],
      "metadata": {
        "id": "qwe7v4hKypLJ"
      }
    },
    {
      "cell_type": "markdown",
      "source": [
        "# **Analysis and Interpretation**"
      ],
      "metadata": {
        "id": "lDtlNjdhtkiA"
      }
    },
    {
      "cell_type": "markdown",
      "source": [
        "#Data Preprocessing\n",
        "\n",
        "The code preprocesses the IMDB movie review dataset for RNN-based sentiment analysis. It limits the vocabulary to the top 10,000 words, truncates/pads reviews to 200 words, and converts text to numerical sequences using keras.datasets.imdb and keras.preprocessing.sequence.pad_sequences. This prepares the data for efficient and consistent input to the RNN model."
      ],
      "metadata": {
        "id": "2R_6gC4rt-km"
      }
    },
    {
      "cell_type": "code",
      "source": [
        "# Loading and Preprocessing Data\n",
        "\n",
        "from tensorflow.keras.datasets import imdb\n",
        "from tensorflow.keras.preprocessing.sequence import pad_sequences\n",
        "\n",
        "# Load the IMDB dataset, keeping only the top 10,000 most frequently occurring words\n",
        "vocab_size = 10000\n",
        "max_length = 200\n",
        "(x_train, y_train), (x_test, y_test) = imdb.load_data(num_words=vocab_size)\n",
        "\n",
        "# Pad the sequences to ensure they have the same length\n",
        "x_train = pad_sequences(x_train, maxlen=max_length)\n",
        "x_test = pad_sequences(x_test, maxlen=max_length)\n"
      ],
      "metadata": {
        "id": "CJEsNX5SOMur"
      },
      "execution_count": null,
      "outputs": []
    },
    {
      "cell_type": "markdown",
      "source": [
        "# Building RNN Model\n",
        "\n",
        "This code defines a Keras sequential model for sentiment analysis of movie reviews.It starts with an embedding layer that converts words into 128-dimensional vectors, capturing semantic relationships.\n",
        "Next, an LSTM layer with 256 units processes the sequence, learning long-term dependencies in the text.\n",
        "Finally, a dense output layer with a sigmoid activation provides a binary classification (positive/negative sentiment).\n",
        "This architecture leverages word embeddings and recurrent connections for effective sentiment prediction."
      ],
      "metadata": {
        "id": "0TfEjgovu1u1"
      }
    },
    {
      "cell_type": "code",
      "source": [
        "# Building the RNN Model\n",
        "\n",
        "from tensorflow.keras.models import Sequential\n",
        "from tensorflow.keras.layers import Embedding, LSTM, Dense\n",
        "\n",
        "# Initialize a Sequential model\n",
        "model = Sequential()\n",
        "\n",
        "# Add an embedding layer to convert input sequences into dense vectors of fixed size\n",
        "model.add(Embedding(input_dim=vocab_size, output_dim=128))\n",
        "\n",
        "# Add an LSTM layer with 128 units to capture long-term dependencies\n",
        "model.add(LSTM(256))\n",
        "\n",
        "# Add a fully connected layer with 1 neuron and sigmoid activation for binary classification\n",
        "model.add(Dense(1, activation='sigmoid'))\n"
      ],
      "metadata": {
        "id": "v2EVr8ZcOMq5"
      },
      "execution_count": null,
      "outputs": []
    },
    {
      "cell_type": "code",
      "source": [
        "# Compiling the Model\n",
        "\n",
        "# Compile the model by specifying the optimizer, loss function, and metrics\n",
        "model.compile(optimizer='adam',                        # Adam optimizer\n",
        "              loss='binary_crossentropy',              # Binary crossentropy loss function for binary classification\n",
        "              metrics=['accuracy'])                    # Evaluation metric: accuracy\n"
      ],
      "metadata": {
        "id": "OED6tKWwOMoL"
      },
      "execution_count": null,
      "outputs": []
    },
    {
      "cell_type": "markdown",
      "source": [
        "# Training the Model\n",
        "\n",
        "The code trains the defined RNN model using the training data (x_train, y_train) for 5 epochs and utilizes 20% of the training data for validation, storing the training history in the history variable. This process allows the model to learn patterns from the data and assess its performance on unseen data during training, facilitating iterative improvement and preventing overfitting."
      ],
      "metadata": {
        "id": "CVe7dBMWvazp"
      }
    },
    {
      "cell_type": "code",
      "source": [
        "# Training the Model\n",
        "\n",
        "# Train the model with the training data\n",
        "history = model.fit(x_train,                           # Training data\n",
        "                    y_train,                           # Training labels\n",
        "                    epochs=5,                          # Number of epochs\n",
        "                    validation_split=0.2)              # Use 20% of training data for validation\n"
      ],
      "metadata": {
        "id": "5LeH2SIFOMlw",
        "outputId": "872a4b66-0828-4713-bba5-e36f29d7911a",
        "colab": {
          "base_uri": "https://localhost:8080/"
        }
      },
      "execution_count": null,
      "outputs": [
        {
          "output_type": "stream",
          "name": "stdout",
          "text": [
            "Epoch 1/5\n",
            "\u001b[1m625/625\u001b[0m \u001b[32m━━━━━━━━━━━━━━━━━━━━\u001b[0m\u001b[37m\u001b[0m \u001b[1m12s\u001b[0m 15ms/step - accuracy: 0.6740 - loss: 0.5942 - val_accuracy: 0.8262 - val_loss: 0.3959\n",
            "Epoch 2/5\n",
            "\u001b[1m625/625\u001b[0m \u001b[32m━━━━━━━━━━━━━━━━━━━━\u001b[0m\u001b[37m\u001b[0m \u001b[1m9s\u001b[0m 15ms/step - accuracy: 0.8397 - loss: 0.3760 - val_accuracy: 0.8576 - val_loss: 0.3674\n",
            "Epoch 3/5\n",
            "\u001b[1m625/625\u001b[0m \u001b[32m━━━━━━━━━━━━━━━━━━━━\u001b[0m\u001b[37m\u001b[0m \u001b[1m11s\u001b[0m 15ms/step - accuracy: 0.8971 - loss: 0.2583 - val_accuracy: 0.8806 - val_loss: 0.3012\n",
            "Epoch 4/5\n",
            "\u001b[1m625/625\u001b[0m \u001b[32m━━━━━━━━━━━━━━━━━━━━\u001b[0m\u001b[37m\u001b[0m \u001b[1m10s\u001b[0m 15ms/step - accuracy: 0.9521 - loss: 0.1370 - val_accuracy: 0.8722 - val_loss: 0.3282\n",
            "Epoch 5/5\n",
            "\u001b[1m625/625\u001b[0m \u001b[32m━━━━━━━━━━━━━━━━━━━━\u001b[0m\u001b[37m\u001b[0m \u001b[1m10s\u001b[0m 15ms/step - accuracy: 0.9753 - loss: 0.0796 - val_accuracy: 0.8548 - val_loss: 0.4056\n"
          ]
        }
      ]
    },
    {
      "cell_type": "markdown",
      "source": [
        "# Evaluation\n",
        "\n",
        "The code evaluates the trained RNN model's performance on the held-out test data (x_test, y_test) and prints the test accuracy. It uses model.evaluate with verbose=2 for detailed output during evaluation. This step is crucial to assess the model's generalization ability and its performance on unseen data, providing insights into its real-world applicability."
      ],
      "metadata": {
        "id": "u9rbsBHavt11"
      }
    },
    {
      "cell_type": "code",
      "source": [
        "# Evaluating the Model\n",
        "\n",
        "# Evaluate the model's performance using the test data\n",
        "test_loss, test_acc = model.evaluate(x_test,           # Test data\n",
        "                                     y_test,           # Test labels\n",
        "                                     verbose=2)        # Verbose output for evaluation\n",
        "print('\\nTest accuracy:', test_acc)                    # Print the test accuracy\n"
      ],
      "metadata": {
        "id": "W-p0V7pLOMgv",
        "outputId": "2afbbeaf-71ba-49b6-d4bb-2583f39edcdd",
        "colab": {
          "base_uri": "https://localhost:8080/"
        }
      },
      "execution_count": null,
      "outputs": [
        {
          "output_type": "stream",
          "name": "stdout",
          "text": [
            "782/782 - 4s - 6ms/step - accuracy: 0.8456 - loss: 0.4401\n",
            "\n",
            "Test accuracy: 0.8455600142478943\n"
          ]
        }
      ]
    },
    {
      "cell_type": "markdown",
      "source": [
        "# Visualisation\n",
        "\n",
        "The plot on the left shows the Model Accuracy, and the plot on the right shows the Model Loss.\n",
        "\n",
        "1. **Model Accuracy:** The training accuracy (blue line) shows consistent improvement over 5 epochs, indicating effective learning on the training data. However, the validation accuracy (orange line), which assesses generalization, peaks around epoch 2 and then declines. This divergence between training and validation accuracy after epoch 2 strongly suggests overfitting, where the model starts memorizing the training data instead of learning general patterns. Therefore, the optimal stopping point for training this model to achieve better generalization is likely around epoch 2.\n",
        "\n",
        "2. **Model Loss:** The training loss (blue line) generally decreases over epochs as the model minimizes errors on the training data. The validation loss (orange line) initially decreases, mirroring the improvement in validation accuracy, and reaches its minimum around epoch 2. After epoch 2, the validation loss starts to increase. This increase in validation loss, coinciding with the decrease in validation accuracy, further confirms overfitting. The loss and accuracy plots show an expected inverse correlation.\n",
        "\n",
        "The observed overfitting strongly suggests implementing early stopping, halting training around epoch 2 when validation performance starts to decline, to obtain a better-generalized model. To further mitigate overfitting in future runs, consider applying regularization techniques like L1 and L2 regularization or dropout. The model's complexity might be a contributing factor, suggesting exploration of simpler architectures. Additionally, the learning rate could be influencing overfitting, warranting experimentation with different values or scheduling. Finally, ensuring a sufficiently large and representative dataset can also help reduce overfitting."
      ],
      "metadata": {
        "id": "Mx6aLAD-v7T3"
      }
    },
    {
      "cell_type": "code",
      "source": [
        "# Visualizing Training Results\n",
        "\n",
        "import matplotlib.pyplot as plt\n",
        "\n",
        "# Plot training & validation accuracy values\n",
        "plt.figure(figsize=(12, 4))\n",
        "plt.subplot(1, 2, 1)                                   # Create subplot for accuracy\n",
        "plt.plot(history.history['accuracy'])                  # Plot training accuracy\n",
        "plt.plot(history.history['val_accuracy'])              # Plot validation accuracy\n",
        "plt.title('Model Accuracy')                            # Title of the plot\n",
        "plt.ylabel('Accuracy')                                 # Y-axis label\n",
        "plt.xlabel('Epoch')                                    # X-axis label\n",
        "plt.legend(['Train', 'Validation'], loc='upper left')  # Legend\n",
        "\n",
        "# Plot training & validation loss values\n",
        "plt.subplot(1, 2, 2)                                   # Create subplot for loss\n",
        "plt.plot(history.history['loss'])                      # Plot training loss\n",
        "plt.plot(history.history['val_loss'])                  # Plot validation loss\n",
        "plt.title('Model Loss')                                # Title of the plot\n",
        "plt.ylabel('Loss')                                     # Y-axis label\n",
        "plt.xlabel('Epoch')                                    # X-axis label\n",
        "plt.legend(['Train', 'Validation'], loc='upper left')  # Legend\n",
        "\n",
        "plt.show()                                             # Display the plots\n"
      ],
      "metadata": {
        "id": "C-Cmyw3uOMUW",
        "outputId": "199b81dd-a7a7-4f06-ef92-63d3130f5867",
        "colab": {
          "base_uri": "https://localhost:8080/",
          "height": 410
        }
      },
      "execution_count": null,
      "outputs": [
        {
          "output_type": "display_data",
          "data": {
            "text/plain": [
              "<Figure size 1200x400 with 2 Axes>"
            ],
            "image/png": "[encoded data removed]"
          },
          "metadata": {}
        }
      ]
    },
    {
      "cell_type": "markdown",
      "source": [
        "# Testing\n",
        "\n",
        "The primary goal of this testing phase is to evaluate the performance of a pre-trained sentiment analysis model on unseen data (the metacritic.csv dataset in this case). This provides an unbiased estimate of how well the model is likely to perform in real-world scenarios\n",
        "\n",
        "cm = confusion_matrix(y_data, predicted_labels): This calculates the confusion matrix, which is a table that summarizes the model's predictions against the actual labels. It shows:\n",
        "1. **True Positives (TP):** Number of positive reviews correctly predicted as positive.\n",
        "2. **True Negatives (TN):** Number of negative reviews correctly predicted as negative.\n",
        "3. **False Positives (FP):** Number of negative reviews incorrectly predicted as positive (Type I error).\n",
        "4. **False Negatives (FN):** Number of positive reviews incorrectly predicted as negative (Type II error).\n",
        "\n",
        "sns.heatmap(...): This generates a visually appealing heatmap of the confusion matrix, making it easier to interpret the model's performance in terms of correct and incorrect classifications for each sentiment. The annotations (annot=True) display the counts in each cell, and the colormap (cmap='Blues') provides a visual gradient."
      ],
      "metadata": {
        "id": "FQEw1hQ7xCTK"
      }
    },
    {
      "cell_type": "code",
      "source": [
        "#Model Testing\n",
        "\n",
        "\n",
        "import pandas as pd\n",
        "import numpy as np\n",
        "from tensorflow.keras.preprocessing.text import Tokenizer\n",
        "from tensorflow.keras.preprocessing.sequence import pad_sequences\n",
        "from sklearn.metrics import classification_report, confusion_matrix\n",
        "import matplotlib.pyplot as plt\n",
        "import seaborn as sns\n",
        "\n",
        "\n",
        "df = pd.read_csv('/content/metacritic.csv')\n",
        "\n",
        "vocab_size = 10000\n",
        "max_length = 200\n",
        "\n",
        "\n",
        "texts = df['review'].astype(str).values\n",
        "labels = df['sentiment'].values\n",
        "\n",
        "\n",
        "tokenizer = Tokenizer(num_words=vocab_size)\n",
        "tokenizer.fit_on_texts(texts)\n",
        "\n",
        "\n",
        "sequences = tokenizer.texts_to_sequences(texts)\n",
        "x_data = pad_sequences(sequences, maxlen=max_length)\n",
        "y_data = np.array(labels)\n",
        "\n",
        "loss, acc = model.evaluate(x_data, y_data, verbose=2)\n",
        "print(f\"Test Loss: {loss:.4f}, Test Accuracy: {acc:.4f}\")\n",
        "\n",
        "predictions = model.predict(x_data)\n",
        "predicted_labels = (predictions > 0.5).astype(int)\n",
        "\n",
        "print(\"\\nClassification Report:\")\n",
        "print(classification_report(y_data, predicted_labels))\n",
        "\n",
        "\n",
        "cm = confusion_matrix(y_data, predicted_labels)\n",
        "plt.figure(figsize=(6, 4))\n",
        "sns.heatmap(cm, annot=True, fmt='d', cmap='Blues')\n",
        "plt.xlabel(\"Predicted Label\")\n",
        "plt.ylabel(\"True Label\")\n",
        "plt.title(\"Confusion Matrix\")\n",
        "plt.show()\n"
      ],
      "metadata": {
        "id": "CknqfmpROMBl",
        "outputId": "e11882cb-f878-4e1f-fd03-cc8ed369cd62",
        "colab": {
          "base_uri": "https://localhost:8080/",
          "height": 665
        }
      },
      "execution_count": null,
      "outputs": [
        {
          "output_type": "stream",
          "name": "stdout",
          "text": [
            "4/4 - 0s - 14ms/step - accuracy: 0.4300 - loss: 1.0590\n",
            "Test Loss: 1.0590, Test Accuracy: 0.4300\n",
            "\u001b[1m4/4\u001b[0m \u001b[32m━━━━━━━━━━━━━━━━━━━━\u001b[0m\u001b[37m\u001b[0m \u001b[1m0s\u001b[0m 41ms/step\n",
            "\n",
            "Classification Report:\n",
            "              precision    recall  f1-score   support\n",
            "\n",
            "           0       0.43      0.44      0.44        50\n",
            "           1       0.43      0.42      0.42        50\n",
            "\n",
            "    accuracy                           0.43       100\n",
            "   macro avg       0.43      0.43      0.43       100\n",
            "weighted avg       0.43      0.43      0.43       100\n",
            "\n"
          ]
        },
        {
          "output_type": "display_data",
          "data": {
            "text/plain": [
              "<Figure size 600x400 with 2 Axes>"
            ],
            "image/png": "[encoded data removed]"
          },
          "metadata": {}
        }
      ]
    }
  ],
  "metadata": {
    "colab": {
      "provenance": [],
      "gpuType": "T4"
    },
    "kernelspec": {
      "display_name": "Python 3",
      "name": "python3"
    },
    "accelerator": "GPU"
  },
  "nbformat": 4,
  "nbformat_minor": 0
}